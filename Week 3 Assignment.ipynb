{
 "cells": [
  {
   "cell_type": "markdown",
   "id": "4dbafe33-b176-4905-9f9a-024355c9339e",
   "metadata": {
    "tags": []
   },
   "source": [
    "# Week 3 Assignment: Census Data Exploration\n",
    "\n",
    "Examining Los Angeles Chinatown - Income\n",
    "\n",
    "Author: Brian Kohaya\n",
    "\n",
    "Description: This notebook will look at income in Chinatown, Los Angeles and the immediate surrounding areas (Echo Park, Lincoln Heights, and Elysian Park)"
   ]
  },
  {
   "cell_type": "code",
   "execution_count": 1,
   "id": "d5b0b6ac-0d70-4b57-aca6-ea4538063960",
   "metadata": {},
   "outputs": [],
   "source": [
    "import pandas as pd\n",
    "import geopandas as gpd\n",
    "import numpy as np"
   ]
  },
  {
   "cell_type": "code",
   "execution_count": 5,
   "id": "4903674f-39d0-4380-9e31-5131f82690d1",
   "metadata": {},
   "outputs": [],
   "source": [
    "income = pd.read_csv('LACountyIncome.csv')"
   ]
  },
  {
   "cell_type": "code",
   "execution_count": 7,
   "id": "b9c52474-f73e-4453-a879-8bbeb5b73288",
   "metadata": {},
   "outputs": [
    {
     "data": {
      "text/plain": [
       "(2495, 8)"
      ]
     },
     "execution_count": 7,
     "metadata": {},
     "output_type": "execute_result"
    }
   ],
   "source": [
    "income.shape"
   ]
  },
  {
   "cell_type": "code",
   "execution_count": 9,
   "id": "c71df63a-4c2d-415a-9224-23f3c129b877",
   "metadata": {},
   "outputs": [
    {
     "data": {
      "text/html": [
       "<div>\n",
       "<style scoped>\n",
       "    .dataframe tbody tr th:only-of-type {\n",
       "        vertical-align: middle;\n",
       "    }\n",
       "\n",
       "    .dataframe tbody tr th {\n",
       "        vertical-align: top;\n",
       "    }\n",
       "\n",
       "    .dataframe thead th {\n",
       "        text-align: right;\n",
       "    }\n",
       "</style>\n",
       "<table border=\"1\" class=\"dataframe\">\n",
       "  <thead>\n",
       "    <tr style=\"text-align: right;\">\n",
       "      <th></th>\n",
       "      <th>tract</th>\n",
       "      <th>income_percap</th>\n",
       "      <th>sup_dist</th>\n",
       "      <th>csa</th>\n",
       "      <th>spa</th>\n",
       "      <th>ESRI_OID</th>\n",
       "      <th>Shape__Area</th>\n",
       "      <th>Shape__Length</th>\n",
       "    </tr>\n",
       "  </thead>\n",
       "  <tbody>\n",
       "    <tr>\n",
       "      <th>0</th>\n",
       "      <td>6037199900</td>\n",
       "      <td>17982.0</td>\n",
       "      <td>District 1</td>\n",
       "      <td>Los Angeles - Lincoln Heights</td>\n",
       "      <td>SPA 4 - Metro</td>\n",
       "      <td>2347</td>\n",
       "      <td>4.782361e+06</td>\n",
       "      <td>10141.728022</td>\n",
       "    </tr>\n",
       "    <tr>\n",
       "      <th>1</th>\n",
       "      <td>6037199700</td>\n",
       "      <td>26586.0</td>\n",
       "      <td>District 1</td>\n",
       "      <td>Los Angeles - Wholesale District</td>\n",
       "      <td>SPA 4 - Metro</td>\n",
       "      <td>2348</td>\n",
       "      <td>1.041050e+07</td>\n",
       "      <td>13808.463241</td>\n",
       "    </tr>\n",
       "    <tr>\n",
       "      <th>2</th>\n",
       "      <td>6037199801</td>\n",
       "      <td>16111.0</td>\n",
       "      <td>District 1</td>\n",
       "      <td>Los Angeles - Lincoln Heights</td>\n",
       "      <td>SPA 4 - Metro</td>\n",
       "      <td>2349</td>\n",
       "      <td>3.724107e+06</td>\n",
       "      <td>9459.391827</td>\n",
       "    </tr>\n",
       "    <tr>\n",
       "      <th>3</th>\n",
       "      <td>6037199802</td>\n",
       "      <td>16180.0</td>\n",
       "      <td>District 1</td>\n",
       "      <td>Los Angeles - Lincoln Heights</td>\n",
       "      <td>SPA 4 - Metro</td>\n",
       "      <td>2350</td>\n",
       "      <td>3.296129e+06</td>\n",
       "      <td>8868.744225</td>\n",
       "    </tr>\n",
       "    <tr>\n",
       "      <th>4</th>\n",
       "      <td>6037201110</td>\n",
       "      <td>32367.0</td>\n",
       "      <td>District 1</td>\n",
       "      <td>Los Angeles - El Sereno</td>\n",
       "      <td>SPA 4 - Metro</td>\n",
       "      <td>2351</td>\n",
       "      <td>1.099246e+07</td>\n",
       "      <td>15893.383636</td>\n",
       "    </tr>\n",
       "  </tbody>\n",
       "</table>\n",
       "</div>"
      ],
      "text/plain": [
       "        tract  income_percap    sup_dist                               csa  \\\n",
       "0  6037199900        17982.0  District 1     Los Angeles - Lincoln Heights   \n",
       "1  6037199700        26586.0  District 1  Los Angeles - Wholesale District   \n",
       "2  6037199801        16111.0  District 1     Los Angeles - Lincoln Heights   \n",
       "3  6037199802        16180.0  District 1     Los Angeles - Lincoln Heights   \n",
       "4  6037201110        32367.0  District 1           Los Angeles - El Sereno   \n",
       "\n",
       "             spa  ESRI_OID   Shape__Area  Shape__Length  \n",
       "0  SPA 4 - Metro      2347  4.782361e+06   10141.728022  \n",
       "1  SPA 4 - Metro      2348  1.041050e+07   13808.463241  \n",
       "2  SPA 4 - Metro      2349  3.724107e+06    9459.391827  \n",
       "3  SPA 4 - Metro      2350  3.296129e+06    8868.744225  \n",
       "4  SPA 4 - Metro      2351  1.099246e+07   15893.383636  "
      ]
     },
     "execution_count": 9,
     "metadata": {},
     "output_type": "execute_result"
    }
   ],
   "source": [
    "income.head()"
   ]
  },
  {
   "cell_type": "code",
   "execution_count": null,
   "id": "f36bab72-b39b-4859-8f72-3eaa32e22199",
   "metadata": {},
   "outputs": [],
   "source": []
  }
 ],
 "metadata": {
  "kernelspec": {
   "display_name": "Python 3 (ipykernel)",
   "language": "python",
   "name": "python3"
  },
  "language_info": {
   "codemirror_mode": {
    "name": "ipython",
    "version": 3
   },
   "file_extension": ".py",
   "mimetype": "text/x-python",
   "name": "python",
   "nbconvert_exporter": "python",
   "pygments_lexer": "ipython3",
   "version": "3.10.8"
  }
 },
 "nbformat": 4,
 "nbformat_minor": 5
}
